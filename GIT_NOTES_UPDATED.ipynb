{
 "cells": [
  {
   "cell_type": "markdown",
   "id": "dc94de6b-d28b-4475-a7ad-b7bd65196328",
   "metadata": {},
   "source": [
    "# GIT PART-1 PUSH & PULL TO GITHUB"
   ]
  },
  {
   "cell_type": "markdown",
   "id": "bbe4c398-6d3f-48ac-8a66-bdd790f6c660",
   "metadata": {},
   "source": [
    "# 1.Initialize Git"
   ]
  },
  {
   "cell_type": "code",
   "execution_count": null,
   "id": "2d6734ce-ac66-4c0b-bf89-f00c771f0f5d",
   "metadata": {},
   "outputs": [
    {
     "name": "stdout",
     "output_type": "stream",
     "text": [
      "Initialized empty Git repository in E:/Git_material_datamites/Git_repo_project/.git/\n"
     ]
    }
   ],
   "source": [
    " git init -b main"
   ]
  },
  {
   "cell_type": "markdown",
   "id": "043e28a0-378e-4048-b73d-9a1f5091a529",
   "metadata": {},
   "source": [
    "# 2.Git Version"
   ]
  },
  {
   "cell_type": "code",
   "execution_count": 4,
   "id": "1a6192bc-bc62-42e8-9873-f424b49e7463",
   "metadata": {},
   "outputs": [
    {
     "name": "stdout",
     "output_type": "stream",
     "text": [
      "git version 2.49.0.windows.1\n"
     ]
    }
   ],
   "source": [
    "git --version"
   ]
  },
  {
   "cell_type": "markdown",
   "id": "13588b3d-a979-403d-9bd2-123077a27ba1",
   "metadata": {},
   "source": [
    "# 3.Git Config"
   ]
  },
  {
   "cell_type": "code",
   "execution_count": 5,
   "id": "26e5bda7-583a-477a-bafb-d53f98be5684",
   "metadata": {},
   "outputs": [],
   "source": [
    "git config --global user.name \"jsakshu\""
   ]
  },
  {
   "cell_type": "code",
   "execution_count": 6,
   "id": "95a0b715-ba91-4d72-a1c9-dce167c0019d",
   "metadata": {},
   "outputs": [],
   "source": [
    "git config --global user.email \"jsakshuammi@gmail.com\""
   ]
  },
  {
   "cell_type": "markdown",
   "id": "d3eefe35-667e-459e-86df-fe4006c4c96c",
   "metadata": {},
   "source": [
    "# 4.Git Status"
   ]
  },
  {
   "cell_type": "code",
   "execution_count": 7,
   "id": "c5a84421-883b-4fa8-ab78-c95ea686cbbb",
   "metadata": {},
   "outputs": [
    {
     "name": "stdout",
     "output_type": "stream",
     "text": [
      "On branch main\n",
      "\n",
      "No commits yet\n",
      "\n",
      "Untracked files:\n",
      "  (use \"git add <file>...\" to include in what will be committed)\n",
      "\tGIT_NOTES.ipynb\n",
      "\tdemo.txt\n",
      "\n",
      "nothing added to commit but untracked files present (use \"git add\" to track)\n"
     ]
    }
   ],
   "source": [
    "git status"
   ]
  },
  {
   "cell_type": "raw",
   "id": "f8c2455d-6f5c-40ef-bf75-363d406e9a83",
   "metadata": {},
   "source": [
    "Lets create some files in current directory--demo.txt"
   ]
  },
  {
   "cell_type": "markdown",
   "id": "e7aafe3f-8e17-441f-aea7-ab9c2a73195b",
   "metadata": {},
   "source": [
    "### Check No. of file is cwd"
   ]
  },
  {
   "cell_type": "markdown",
   "id": "c06bf20c-a1db-4019-b9d4-7716df72ae26",
   "metadata": {},
   "source": [
    "#### Read the file using cat command"
   ]
  },
  {
   "cell_type": "code",
   "execution_count": null,
   "id": "6d4087a7-c3d0-45d1-9adb-f1c7235ccbbc",
   "metadata": {},
   "outputs": [],
   "source": [
    "# can use cat or type command in git bash"
   ]
  },
  {
   "cell_type": "code",
   "execution_count": 10,
   "id": "b6829024-82d3-45d5-93ff-d12ce6ea88d5",
   "metadata": {},
   "outputs": [
    {
     "name": "stdout",
     "output_type": "stream",
     "text": [
      "this is line 1\n",
      "this is line 2\n"
     ]
    }
   ],
   "source": [
    "type demo.txt  "
   ]
  },
  {
   "cell_type": "code",
   "execution_count": 11,
   "id": "0946cd72-f5ee-47ec-af1b-87b770d158b8",
   "metadata": {},
   "outputs": [
    {
     "data": {
      "text/plain": [
       "'E:\\\\Git_material_datamites\\\\Git_repo_project'"
      ]
     },
     "execution_count": 11,
     "metadata": {},
     "output_type": "execute_result"
    }
   ],
   "source": [
    "pwd"
   ]
  },
  {
   "cell_type": "markdown",
   "id": "f7491a88-5159-416f-a9fc-9e39aa0c99c0",
   "metadata": {},
   "source": [
    "#### Check The status"
   ]
  },
  {
   "cell_type": "code",
   "execution_count": 12,
   "id": "bc034ecd-6f29-4a47-b9e4-62bf590bea90",
   "metadata": {},
   "outputs": [
    {
     "name": "stdout",
     "output_type": "stream",
     "text": [
      "On branch main\n",
      "\n",
      "No commits yet\n",
      "\n",
      "Untracked files:\n",
      "  (use \"git add <file>...\" to include in what will be committed)\n",
      "\t.ipynb_checkpoints/\n",
      "\tGIT_NOTES.ipynb\n",
      "\tdemo.txt\n",
      "\n",
      "nothing added to commit but untracked files present (use \"git add\" to track)\n"
     ]
    }
   ],
   "source": [
    "git status"
   ]
  },
  {
   "cell_type": "markdown",
   "id": "c0473072-598f-4949-be92-cc9b69809bbd",
   "metadata": {},
   "source": [
    "# 5.Add the files to local repo-Stagging the files"
   ]
  },
  {
   "cell_type": "code",
   "execution_count": 13,
   "id": "f760c474-1cb1-4916-b837-dbd79fa5b829",
   "metadata": {},
   "outputs": [],
   "source": [
    "git add demo.txt"
   ]
  },
  {
   "cell_type": "code",
   "execution_count": 14,
   "id": "45fb0584-fd6d-46a1-8235-fdb85edd16b7",
   "metadata": {},
   "outputs": [
    {
     "name": "stdout",
     "output_type": "stream",
     "text": [
      "On branch main\n",
      "\n",
      "No commits yet\n",
      "\n",
      "Changes to be committed:\n",
      "  (use \"git rm --cached <file>...\" to unstage)\n",
      "\tnew file:   demo.txt\n",
      "\n",
      "Untracked files:\n",
      "  (use \"git add <file>...\" to include in what will be committed)\n",
      "\t.ipynb_checkpoints/\n",
      "\tGIT_NOTES.ipynb\n",
      "\n"
     ]
    }
   ],
   "source": [
    "git status"
   ]
  },
  {
   "cell_type": "markdown",
   "id": "ca4183c2-7932-46a7-8206-55c9816443f0",
   "metadata": {},
   "source": [
    "### Check log Details"
   ]
  },
  {
   "cell_type": "code",
   "execution_count": 23,
   "id": "34acc998-5aa2-4bd8-aa84-815c06f80342",
   "metadata": {},
   "outputs": [
    {
     "name": "stderr",
     "output_type": "stream",
     "text": [
      "fatal: your current branch 'main' does not have any commits yet\n"
     ]
    }
   ],
   "source": [
    "git log"
   ]
  },
  {
   "cell_type": "markdown",
   "id": "d0a8fac8-629c-4e22-9111-71b1aee6e55a",
   "metadata": {},
   "source": [
    "# 7.Commit the file"
   ]
  },
  {
   "cell_type": "code",
   "execution_count": 15,
   "id": "63567d52-0fa4-4de9-994d-1d24bdfddf3f",
   "metadata": {},
   "outputs": [
    {
     "name": "stdout",
     "output_type": "stream",
     "text": [
      "[main (root-commit) fa41be8] first commit\n",
      " 1 file changed, 2 insertions(+)\n",
      " create mode 100644 demo.txt\n"
     ]
    }
   ],
   "source": [
    "git commit -m \"first commit\""
   ]
  },
  {
   "cell_type": "markdown",
   "id": "da327f3e-18e0-4628-9066-6f2b437bba8d",
   "metadata": {},
   "source": [
    "# 8.Check log Details"
   ]
  },
  {
   "cell_type": "code",
   "execution_count": 16,
   "id": "32b22678-9c56-4808-8924-b0cbec872599",
   "metadata": {},
   "outputs": [
    {
     "name": "stdout",
     "output_type": "stream",
     "text": [
      "commit fa41be8fe752a75c618f0e394cfc444ab5b962ea\n",
      "Author: jsakshu <jsakshuammi@gmail.com>\n",
      "Date:   Tue Jul 1 18:00:29 2025 +0530\n",
      "\n",
      "    first commit\n"
     ]
    }
   ],
   "source": [
    "git log"
   ]
  },
  {
   "cell_type": "markdown",
   "id": "b84b5df4-68ad-4abd-8639-1b83ea8d01a1",
   "metadata": {},
   "source": [
    "### Modify the demo.txt file"
   ]
  },
  {
   "cell_type": "code",
   "execution_count": 17,
   "id": "a7aac12f-de14-4f50-9742-ab89b5a3e4d6",
   "metadata": {},
   "outputs": [
    {
     "name": "stdout",
     "output_type": "stream",
     "text": [
      "this is line 1\n",
      "this is line 2\n",
      "\n",
      "this is line 3\n",
      "this is line 4\n"
     ]
    }
   ],
   "source": [
    "type demo.txt"
   ]
  },
  {
   "cell_type": "markdown",
   "id": "6d471cef-5ecc-4e00-b558-74636541182f",
   "metadata": {},
   "source": [
    "### Check Git status for modified file"
   ]
  },
  {
   "cell_type": "code",
   "execution_count": 18,
   "id": "080658be-9f83-48df-b4cd-e9bb0fc2bad4",
   "metadata": {},
   "outputs": [
    {
     "name": "stdout",
     "output_type": "stream",
     "text": [
      "On branch main\n",
      "Changes not staged for commit:\n",
      "  (use \"git add <file>...\" to update what will be committed)\n",
      "  (use \"git restore <file>...\" to discard changes in working directory)\n",
      "\tmodified:   demo.txt\n",
      "\n",
      "Untracked files:\n",
      "  (use \"git add <file>...\" to include in what will be committed)\n",
      "\t.ipynb_checkpoints/\n",
      "\tGIT_NOTES.ipynb\n",
      "\n",
      "no changes added to commit (use \"git add\" and/or \"git commit -a\")\n"
     ]
    }
   ],
   "source": [
    "git status"
   ]
  },
  {
   "cell_type": "markdown",
   "id": "d71bc9a0-b3a8-4428-b63c-753025613b6b",
   "metadata": {},
   "source": [
    "### commit for seccond time before that staging the file agin"
   ]
  },
  {
   "cell_type": "code",
   "execution_count": 19,
   "id": "d56ab2cb-5550-4db7-839b-82105c4734f6",
   "metadata": {},
   "outputs": [],
   "source": [
    "git add demo.txt"
   ]
  },
  {
   "cell_type": "code",
   "execution_count": 20,
   "id": "0b97c7bd-da34-4e40-a7ea-b1a69a160856",
   "metadata": {},
   "outputs": [
    {
     "name": "stdout",
     "output_type": "stream",
     "text": [
      "On branch main\n",
      "Changes to be committed:\n",
      "  (use \"git restore --staged <file>...\" to unstage)\n",
      "\tmodified:   demo.txt\n",
      "\n",
      "Untracked files:\n",
      "  (use \"git add <file>...\" to include in what will be committed)\n",
      "\t.ipynb_checkpoints/\n",
      "\tGIT_NOTES.ipynb\n",
      "\n"
     ]
    }
   ],
   "source": [
    "git status"
   ]
  },
  {
   "cell_type": "code",
   "execution_count": 21,
   "id": "225a1d89-1cd8-4cc3-9920-2dddd2280494",
   "metadata": {},
   "outputs": [
    {
     "name": "stdout",
     "output_type": "stream",
     "text": [
      "[main b270235] second commit\n",
      " 1 file changed, 4 insertions(+), 1 deletion(-)\n"
     ]
    }
   ],
   "source": [
    "git commit -m \"second commit\""
   ]
  },
  {
   "cell_type": "code",
   "execution_count": 22,
   "id": "f534019e-719a-4431-b755-ca1ff3722465",
   "metadata": {},
   "outputs": [
    {
     "name": "stdout",
     "output_type": "stream",
     "text": [
      "commit b2702350818585bfc35e3d05e23bb9f8b7813379\n",
      "Author: jsakshu <jsakshuammi@gmail.com>\n",
      "Date:   Tue Jul 1 18:02:42 2025 +0530\n",
      "\n",
      "    second commit\n",
      "\n",
      "commit fa41be8fe752a75c618f0e394cfc444ab5b962ea\n",
      "Author: jsakshu <jsakshuammi@gmail.com>\n",
      "Date:   Tue Jul 1 18:00:29 2025 +0530\n",
      "\n",
      "    first commit\n"
     ]
    }
   ],
   "source": [
    "git log"
   ]
  },
  {
   "cell_type": "code",
   "execution_count": 23,
   "id": "0312d470-7026-4676-95db-d830f189cd40",
   "metadata": {},
   "outputs": [
    {
     "name": "stdout",
     "output_type": "stream",
     "text": [
      "On branch main\n",
      "Untracked files:\n",
      "  (use \"git add <file>...\" to include in what will be committed)\n",
      "\t.ipynb_checkpoints/\n",
      "\tGIT_NOTES.ipynb\n",
      "\n",
      "nothing added to commit but untracked files present (use \"git add\" to track)\n"
     ]
    }
   ],
   "source": [
    "git status"
   ]
  },
  {
   "cell_type": "markdown",
   "id": "a0ef79e9-df37-4d6c-a344-b48844fba4d9",
   "metadata": {},
   "source": [
    "# Create a remote repo"
   ]
  },
  {
   "cell_type": "code",
   "execution_count": 24,
   "id": "fbdaf0a5-dea7-4b6c-af5b-ce6c43e851f3",
   "metadata": {},
   "outputs": [],
   "source": [
    "git remote add origin \"https://github.com/jsakshu/first_repo.git\""
   ]
  },
  {
   "cell_type": "code",
   "execution_count": 25,
   "id": "0256cf63-fe4e-418e-8439-9434d8de7225",
   "metadata": {},
   "outputs": [
    {
     "name": "stderr",
     "output_type": "stream",
     "text": [
      "To https://github.com/jsakshu/first_repo.git\n",
      " * [new branch]      main -> main\n"
     ]
    }
   ],
   "source": [
    "git push origin main"
   ]
  },
  {
   "cell_type": "raw",
   "id": "304b9932-c0dc-4ee5-850c-cf56c3319577",
   "metadata": {},
   "source": [
    " ** Note **\n",
    "\n",
    "   The below content is not an output of above,but when we run push,its asks to athenticate git in syytem-login to github\n",
    "info: please complete authentication in your browser...\n",
    "Enumerating objects: 6, done.\n",
    "Counting objects: 100% (6/6), done.\n",
    "Delta compression using up to 8 threads\n",
    "Compressing objects: 100% (3/3), done.\n",
    "Writing objects: 100% (6/6), 502 bytes | 167.00 KiB/s, done.\n",
    "Total 6 (delta 0), reused 0 (delta 0), pack-reused 0 (from 0)\n",
    "\n"
   ]
  },
  {
   "cell_type": "markdown",
   "id": "4a457c7c-dcf6-4307-bb49-3e2ef562b544",
   "metadata": {},
   "source": [
    "-  Check GITHUB and can see files are pushed\n",
    "-  create a file in github (pull_check.txt) ,lets try to pull the file\n",
    "-  before that check the status whether pull_check.txt can see in git"
   ]
  },
  {
   "cell_type": "code",
   "execution_count": 26,
   "id": "585ce2ca-0eff-4e44-9ae9-844c09e22f52",
   "metadata": {},
   "outputs": [
    {
     "name": "stdout",
     "output_type": "stream",
     "text": [
      "On branch main\n",
      "Untracked files:\n",
      "  (use \"git add <file>...\" to include in what will be committed)\n",
      "\t.ipynb_checkpoints/\n",
      "\tGIT_NOTES.ipynb\n",
      "\n",
      "nothing added to commit but untracked files present (use \"git add\" to track)\n"
     ]
    }
   ],
   "source": [
    "git status"
   ]
  },
  {
   "cell_type": "markdown",
   "id": "1bacdd9d-fb09-4a4c-b547-55385b8a2250",
   "metadata": {},
   "source": [
    "# PULL request"
   ]
  },
  {
   "cell_type": "code",
   "execution_count": 27,
   "id": "dbc573be-fee9-4386-bb31-d12555ffda96",
   "metadata": {},
   "outputs": [
    {
     "name": "stdout",
     "output_type": "stream",
     "text": [
      "Updating b270235..145edce\n",
      "Fast-forward\n",
      " requirement.txt | 1 +\n",
      " 1 file changed, 1 insertion(+)\n",
      " create mode 100644 requirement.txt\n"
     ]
    },
    {
     "name": "stderr",
     "output_type": "stream",
     "text": [
      "From https://github.com/jsakshu/first_repo\n",
      " * branch            main       -> FETCH_HEAD\n",
      "   b270235..145edce  main       -> origin/main\n"
     ]
    }
   ],
   "source": [
    "git pull origin main"
   ]
  },
  {
   "cell_type": "code",
   "execution_count": 28,
   "id": "acb3a6fe-1421-48fe-aef6-d7b92e0aae45",
   "metadata": {},
   "outputs": [
    {
     "name": "stdout",
     "output_type": "stream",
     "text": [
      "On branch main\n",
      "Untracked files:\n",
      "  (use \"git add <file>...\" to include in what will be committed)\n",
      "\t.ipynb_checkpoints/\n",
      "\tGIT_NOTES.ipynb\n",
      "\n",
      "nothing added to commit but untracked files present (use \"git add\" to track)\n"
     ]
    }
   ],
   "source": [
    "git status"
   ]
  },
  {
   "cell_type": "code",
   "execution_count": 29,
   "id": "1acd7d0e-ef21-4a30-85e5-8544c6b0474e",
   "metadata": {},
   "outputs": [
    {
     "name": "stdout",
     "output_type": "stream",
     "text": [
      " Volume in drive E is Technical\n",
      " Volume Serial Number is 0C14-7CEB\n",
      "\n",
      " Directory of E:\\Git_material_datamites\\Git_repo_project\n",
      "\n",
      "01-07-2025  18:06    <DIR>          .\n",
      "01-07-2025  17:53    <DIR>          ..\n",
      "01-07-2025  17:59    <DIR>          .ipynb_checkpoints\n",
      "01-07-2025  18:02                64 demo.txt\n",
      "01-07-2025  18:05            17,677 GIT_NOTES.ipynb\n",
      "01-07-2025  18:06                52 requirement.txt\n",
      "               3 File(s)         17,793 bytes\n",
      "               3 Dir(s)  96,316,895,232 bytes free\n"
     ]
    }
   ],
   "source": [
    "ls"
   ]
  },
  {
   "cell_type": "markdown",
   "id": "95084452-5a93-4f63-b8a5-cf8be20c4a16",
   "metadata": {},
   "source": [
    "---"
   ]
  },
  {
   "cell_type": "markdown",
   "id": "c30b18fe-6e44-4719-9f6f-459c7e20c802",
   "metadata": {},
   "source": [
    "# create new branches"
   ]
  },
  {
   "cell_type": "code",
   "execution_count": 30,
   "id": "c8138132-2e0e-4728-b8d6-4428d2e1f9df",
   "metadata": {},
   "outputs": [
    {
     "name": "stdout",
     "output_type": "stream",
     "text": [
      "* main\n"
     ]
    }
   ],
   "source": [
    "git branch"
   ]
  },
  {
   "cell_type": "code",
   "execution_count": 31,
   "id": "3bc85cc1-d8ca-478f-9091-c110ac95ccef",
   "metadata": {},
   "outputs": [],
   "source": [
    "git branch b1"
   ]
  },
  {
   "cell_type": "code",
   "execution_count": 32,
   "id": "a73c32af-f896-40ea-8172-7253b9b0228d",
   "metadata": {},
   "outputs": [],
   "source": [
    "git branch b2"
   ]
  },
  {
   "cell_type": "code",
   "execution_count": 33,
   "id": "0601a036-def4-4edd-a2cd-fbae6e4c85fe",
   "metadata": {},
   "outputs": [
    {
     "name": "stdout",
     "output_type": "stream",
     "text": [
      "  b1\n",
      "  b2\n",
      "* main\n"
     ]
    }
   ],
   "source": [
    "git branch"
   ]
  },
  {
   "cell_type": "code",
   "execution_count": 34,
   "id": "93af03cd-0c09-49cb-876c-2e660fd6d7fe",
   "metadata": {},
   "outputs": [
    {
     "name": "stdout",
     "output_type": "stream",
     "text": [
      "  b1\n",
      "  b2\n",
      "* main\n",
      "  remotes/origin/main\n"
     ]
    }
   ],
   "source": [
    "git branch --all"
   ]
  },
  {
   "cell_type": "code",
   "execution_count": 35,
   "id": "04509b8f-543a-42d5-b79c-146f64049ecf",
   "metadata": {},
   "outputs": [
    {
     "name": "stdout",
     "output_type": "stream",
     "text": [
      "Deleted branch b2 (was 145edce).\n"
     ]
    }
   ],
   "source": [
    "git branch -d b2"
   ]
  },
  {
   "cell_type": "code",
   "execution_count": 36,
   "id": "3bd956f6-151a-4e19-816d-d8887c57ff07",
   "metadata": {},
   "outputs": [
    {
     "name": "stdout",
     "output_type": "stream",
     "text": [
      "  b1\n",
      "* main\n"
     ]
    }
   ],
   "source": [
    "git branch "
   ]
  },
  {
   "cell_type": "code",
   "execution_count": 37,
   "id": "2488d3b8-c10b-48ec-8782-e2d5dbdadb33",
   "metadata": {},
   "outputs": [
    {
     "name": "stdout",
     "output_type": "stream",
     "text": [
      "  b1\n",
      "* main\n",
      "  remotes/origin/main\n"
     ]
    }
   ],
   "source": [
    "git branch --all"
   ]
  },
  {
   "cell_type": "markdown",
   "id": "7f00b651-2e15-40f5-b0a6-1ba28bd550bd",
   "metadata": {},
   "source": [
    "# Create files in branch1"
   ]
  },
  {
   "cell_type": "markdown",
   "id": "f83f4dc0-429b-48b3-928d-59d4d5624f82",
   "metadata": {},
   "source": [
    "#### 1.Switch from main to branch b1"
   ]
  },
  {
   "cell_type": "code",
   "execution_count": 39,
   "id": "175aa71e-aa3a-4653-af87-8d7f9c76f050",
   "metadata": {},
   "outputs": [
    {
     "name": "stderr",
     "output_type": "stream",
     "text": [
      "Switched to branch 'b1'\n"
     ]
    }
   ],
   "source": [
    "git checkout b1"
   ]
  },
  {
   "cell_type": "code",
   "execution_count": 40,
   "id": "d1ad62f8-192c-43e2-bc11-c15984ebf76d",
   "metadata": {},
   "outputs": [
    {
     "name": "stdout",
     "output_type": "stream",
     "text": [
      "On branch b1\n",
      "Untracked files:\n",
      "  (use \"git add <file>...\" to include in what will be committed)\n",
      "\t.ipynb_checkpoints/\n",
      "\tGIT_NOTES.ipynb\n",
      "\n",
      "nothing added to commit but untracked files present (use \"git add\" to track)\n"
     ]
    }
   ],
   "source": [
    "git status"
   ]
  },
  {
   "cell_type": "markdown",
   "id": "cad8ccdb-cea1-4a78-b686-14ee1d3d2d88",
   "metadata": {},
   "source": [
    "#### 2.lets work on demo.txt"
   ]
  },
  {
   "cell_type": "markdown",
   "id": "ed832a26-6da2-4726-aae6-305bbd2b82d1",
   "metadata": {},
   "source": [
    "##### a.check files in b1 and all files in the main branch will reflected in b1"
   ]
  },
  {
   "cell_type": "code",
   "execution_count": 43,
   "id": "0bfd6368-fb90-45b9-a8ef-daded0f3432f",
   "metadata": {},
   "outputs": [
    {
     "name": "stdout",
     "output_type": "stream",
     "text": [
      "demo.txt\n",
      "requirement.txt\n"
     ]
    }
   ],
   "source": [
    "git ls-tree --name-only -r b1"
   ]
  },
  {
   "cell_type": "markdown",
   "id": "41a2dad8-24a8-45d4-a095-e7ab36e638ad",
   "metadata": {},
   "source": [
    "##### b.modify the file demo.txt"
   ]
  },
  {
   "cell_type": "code",
   "execution_count": 46,
   "id": "79254bd9-0dca-4cbf-8bfe-4f12cc45bda6",
   "metadata": {},
   "outputs": [
    {
     "name": "stdout",
     "output_type": "stream",
     "text": [
      "this is line 1\n",
      "this is line 2\n",
      "\n",
      "this is line 3\n",
      "this is line 4\n",
      "\n",
      "\n",
      "this is line 5-->modified by b1\n",
      "this is line 6-->modified by b1\n"
     ]
    }
   ],
   "source": [
    "type demo.txt"
   ]
  },
  {
   "cell_type": "code",
   "execution_count": 50,
   "id": "8bfc7c6d-4e53-4236-b4f5-e0fb57329ecb",
   "metadata": {},
   "outputs": [
    {
     "name": "stdout",
     "output_type": "stream",
     "text": [
      "On branch b1\n",
      "Changes not staged for commit:\n",
      "  (use \"git add <file>...\" to update what will be committed)\n",
      "  (use \"git restore <file>...\" to discard changes in working directory)\n",
      "\tmodified:   demo.txt\n",
      "\n",
      "Untracked files:\n",
      "  (use \"git add <file>...\" to include in what will be committed)\n",
      "\t.ipynb_checkpoints/\n",
      "\tGIT_NOTES.ipynb\n",
      "\n",
      "no changes added to commit (use \"git add\" and/or \"git commit -a\")\n"
     ]
    }
   ],
   "source": [
    "git status"
   ]
  },
  {
   "cell_type": "code",
   "execution_count": 52,
   "id": "fc7e9a63-f09f-4fc5-bdea-22702d851c86",
   "metadata": {},
   "outputs": [],
   "source": [
    "git add demo.txt"
   ]
  },
  {
   "cell_type": "code",
   "execution_count": 53,
   "id": "b0c1cf60-dc52-45c4-a6ba-4eaca3d21bba",
   "metadata": {},
   "outputs": [
    {
     "name": "stdout",
     "output_type": "stream",
     "text": [
      "On branch b1\n",
      "Changes to be committed:\n",
      "  (use \"git restore --staged <file>...\" to unstage)\n",
      "\tmodified:   demo.txt\n",
      "\n",
      "Untracked files:\n",
      "  (use \"git add <file>...\" to include in what will be committed)\n",
      "\t.ipynb_checkpoints/\n",
      "\tGIT_NOTES.ipynb\n",
      "\n"
     ]
    }
   ],
   "source": [
    "git status"
   ]
  },
  {
   "cell_type": "code",
   "execution_count": 54,
   "id": "05e3aef7-f1e5-489a-aa23-1a9373382697",
   "metadata": {},
   "outputs": [
    {
     "name": "stdout",
     "output_type": "stream",
     "text": [
      "[b1 0555602] first commit by b1\n",
      " 1 file changed, 5 insertions(+), 1 deletion(-)\n"
     ]
    }
   ],
   "source": [
    "git commit -m \"first commit by b1\""
   ]
  },
  {
   "cell_type": "code",
   "execution_count": 56,
   "id": "f1306440-33c6-4d0e-97bd-eb235ee923a2",
   "metadata": {},
   "outputs": [
    {
     "name": "stdout",
     "output_type": "stream",
     "text": [
      "commit 05556021ff1780895d82924560af5e8a0e8fc774\n",
      "Author: jsakshu <jsakshuammi@gmail.com>\n",
      "Date:   Tue Jul 1 18:21:53 2025 +0530\n",
      "\n",
      "    first commit by b1\n",
      "\n",
      "commit 145edcee3b47d93c701eccbf7f3f8cb751ffa03a\n",
      "Author: jsakshu <96901179+jsakshu@users.noreply.github.com>\n",
      "Date:   Tue Jul 1 18:06:12 2025 +0530\n",
      "\n",
      "    Create requirement.txt\n",
      "\n",
      "commit b2702350818585bfc35e3d05e23bb9f8b7813379\n",
      "Author: jsakshu <jsakshuammi@gmail.com>\n",
      "Date:   Tue Jul 1 18:02:42 2025 +0530\n",
      "\n",
      "    second commit\n",
      "\n",
      "commit fa41be8fe752a75c618f0e394cfc444ab5b962ea\n",
      "Author: jsakshu <jsakshuammi@gmail.com>\n",
      "Date:   Tue Jul 1 18:00:29 2025 +0530\n",
      "\n",
      "    first commit\n"
     ]
    }
   ],
   "source": [
    "git log"
   ]
  },
  {
   "cell_type": "markdown",
   "id": "61a76214-29e4-430d-8360-a31263d69f34",
   "metadata": {},
   "source": [
    "#### 2.switch to main branch"
   ]
  },
  {
   "cell_type": "code",
   "execution_count": 58,
   "id": "c7a657ca-a7f6-4f9c-a170-89e68d1e0cf3",
   "metadata": {},
   "outputs": [
    {
     "name": "stderr",
     "output_type": "stream",
     "text": [
      "Switched to branch 'main'\n"
     ]
    }
   ],
   "source": [
    "git checkout main"
   ]
  },
  {
   "cell_type": "code",
   "execution_count": 59,
   "id": "b601d39f-2154-41eb-967e-9fe04c089f94",
   "metadata": {},
   "outputs": [
    {
     "name": "stdout",
     "output_type": "stream",
     "text": [
      "On branch main\n",
      "Untracked files:\n",
      "  (use \"git add <file>...\" to include in what will be committed)\n",
      "\t.ipynb_checkpoints/\n",
      "\tGIT_NOTES.ipynb\n",
      "\n",
      "nothing added to commit but untracked files present (use \"git add\" to track)\n"
     ]
    }
   ],
   "source": [
    "git status"
   ]
  },
  {
   "cell_type": "code",
   "execution_count": 60,
   "id": "fb1679eb-9bba-4ca2-9a07-20d5f105c919",
   "metadata": {},
   "outputs": [
    {
     "name": "stdout",
     "output_type": "stream",
     "text": [
      "demo.txt\n",
      "requirement.txt\n"
     ]
    }
   ],
   "source": [
    "git ls-tree --name-only -r b1"
   ]
  },
  {
   "cell_type": "code",
   "execution_count": 61,
   "id": "e354d7d7-d6c1-4d39-a95a-63538aa55df7",
   "metadata": {},
   "outputs": [
    {
     "name": "stdout",
     "output_type": "stream",
     "text": [
      "this is line 1\n",
      "this is line 2\n",
      "\n",
      "this is line 3\n",
      "this is line 4\n"
     ]
    }
   ],
   "source": [
    "type demo.txt"
   ]
  },
  {
   "cell_type": "markdown",
   "id": "2db1da10-e8d3-4ccd-92a7-68c1ee4438ab",
   "metadata": {},
   "source": [
    "The main branch has no idea on the modification done by branch1"
   ]
  },
  {
   "cell_type": "markdown",
   "id": "5a1a5ec7-ae5b-4414-b66c-c16db6e30102",
   "metadata": {},
   "source": [
    "---"
   ]
  },
  {
   "cell_type": "markdown",
   "id": "0a525600-c612-4354-82f9-e75fc94a081d",
   "metadata": {},
   "source": [
    "# Track the version using commit id\n",
    "create new file track.txt and commit it"
   ]
  },
  {
   "cell_type": "code",
   "execution_count": 63,
   "id": "d67f0ab1-b5d2-4bf2-a635-b282a99bf32a",
   "metadata": {},
   "outputs": [
    {
     "name": "stderr",
     "output_type": "stream",
     "text": [
      "Switched to branch 'b1'\n"
     ]
    }
   ],
   "source": [
    "git checkout b1"
   ]
  },
  {
   "cell_type": "code",
   "execution_count": 64,
   "id": "6c1d2165-ab6d-416d-96a1-2d9d9836b375",
   "metadata": {},
   "outputs": [],
   "source": [
    "git add track.txt"
   ]
  },
  {
   "cell_type": "code",
   "execution_count": 65,
   "id": "0a2cec21-2971-4c8f-9033-c56e89f630db",
   "metadata": {},
   "outputs": [
    {
     "name": "stdout",
     "output_type": "stream",
     "text": [
      "[b1 855dbdf] commit 1\n",
      " 1 file changed, 12 insertions(+)\n",
      " create mode 100644 track.txt\n"
     ]
    }
   ],
   "source": [
    "git commit -m \"commit 1\""
   ]
  },
  {
   "cell_type": "code",
   "execution_count": 66,
   "id": "95951b84-09dd-4493-8a40-68e8309fc59d",
   "metadata": {},
   "outputs": [
    {
     "name": "stdout",
     "output_type": "stream",
     "text": [
      "version 1\n",
      "Git is a version control system that helps you:\n",
      "\n",
      "Track changes to your code\n",
      "\n",
      "Collaborate with others\n",
      "\n",
      "Revert to earlier versions\n",
      "\n",
      "Manage branches for different features or fixes\n",
      "\n",
      "Itâ€™s widely used in software development, especially with platforms like GitHub, GitLab, and Bitbucket.\n"
     ]
    }
   ],
   "source": [
    "type track.txt"
   ]
  },
  {
   "cell_type": "markdown",
   "id": "e895a0c6-7af2-4cc5-b3aa-1efbf33d1a1a",
   "metadata": {},
   "source": [
    "### modify in track.txt"
   ]
  },
  {
   "cell_type": "code",
   "execution_count": 69,
   "id": "cba38344-324b-4cbb-b22a-f48fb56c733d",
   "metadata": {},
   "outputs": [
    {
     "name": "stdout",
     "output_type": "stream",
     "text": [
      "On branch b1\n",
      "Changes not staged for commit:\n",
      "  (use \"git add <file>...\" to update what will be committed)\n",
      "  (use \"git restore <file>...\" to discard changes in working directory)\n",
      "\tmodified:   track.txt\n",
      "\n",
      "Untracked files:\n",
      "  (use \"git add <file>...\" to include in what will be committed)\n",
      "\t.ipynb_checkpoints/\n",
      "\tGIT_NOTES.ipynb\n",
      "\n",
      "no changes added to commit (use \"git add\" and/or \"git commit -a\")\n"
     ]
    }
   ],
   "source": [
    "git status"
   ]
  },
  {
   "cell_type": "code",
   "execution_count": 75,
   "id": "0b726668-cd4a-4245-bede-f9a9bbd9d81f",
   "metadata": {},
   "outputs": [],
   "source": [
    "git add track.txt"
   ]
  },
  {
   "cell_type": "code",
   "execution_count": 71,
   "id": "6013dc2d-2639-45c6-9c80-5a11a644936b",
   "metadata": {},
   "outputs": [
    {
     "name": "stdout",
     "output_type": "stream",
     "text": [
      "[b1 511297e] commit 1\n",
      " 1 file changed, 8 insertions(+), 1 deletion(-)\n"
     ]
    }
   ],
   "source": [
    "git commit -m \"commit 1\""
   ]
  },
  {
   "cell_type": "code",
   "execution_count": 72,
   "id": "98021cae-0d3d-491b-b1b7-43277a389ec7",
   "metadata": {},
   "outputs": [
    {
     "name": "stdout",
     "output_type": "stream",
     "text": [
      "version 1\n",
      "Git is a version control system that helps you:\n",
      "\n",
      "Track changes to your code\n",
      "\n",
      "Collaborate with others\n",
      "\n",
      "Revert to earlier versions\n",
      "\n",
      "Manage branches for different features or fixes\n",
      "\n",
      "Itâ€™s widely used in software development, especially with platforms like GitHub, GitLab, and Bitbucket.\n",
      "\n",
      "version -2\n",
      "git init\n",
      "git status\n",
      "git add .\n",
      "git commit -m \"Message\"\n",
      "git push origin branch_name\n"
     ]
    }
   ],
   "source": [
    "type track.txt"
   ]
  },
  {
   "cell_type": "markdown",
   "id": "08dea4fb-e18f-4287-9d0d-d78f1b44a6e8",
   "metadata": {},
   "source": [
    "### roll back to previous version"
   ]
  },
  {
   "cell_type": "code",
   "execution_count": 74,
   "id": "4ac931de-0fed-4d57-8451-d78044c40248",
   "metadata": {},
   "outputs": [
    {
     "name": "stdout",
     "output_type": "stream",
     "text": [
      "commit 511297e7580c83da59294e292e2be53396b8ecf2\n",
      "Author: jsakshu <jsakshuammi@gmail.com>\n",
      "Date:   Tue Jul 1 18:31:00 2025 +0530\n",
      "\n",
      "    commit 1\n",
      "\n",
      "commit 855dbdf6c5a851ea217e312bbda156d2fb4a980e\n",
      "Author: jsakshu <jsakshuammi@gmail.com>\n",
      "Date:   Tue Jul 1 18:28:15 2025 +0530\n",
      "\n",
      "    commit 1\n",
      "\n",
      "commit 05556021ff1780895d82924560af5e8a0e8fc774\n",
      "Author: jsakshu <jsakshuammi@gmail.com>\n",
      "Date:   Tue Jul 1 18:21:53 2025 +0530\n",
      "\n",
      "    first commit by b1\n",
      "\n",
      "commit 145edcee3b47d93c701eccbf7f3f8cb751ffa03a\n",
      "Author: jsakshu <96901179+jsakshu@users.noreply.github.com>\n",
      "Date:   Tue Jul 1 18:06:12 2025 +0530\n",
      "\n",
      "    Create requirement.txt\n",
      "\n",
      "commit b2702350818585bfc35e3d05e23bb9f8b7813379\n",
      "Author: jsakshu <jsakshuammi@gmail.com>\n",
      "Date:   Tue Jul 1 18:02:42 2025 +0530\n",
      "\n",
      "    second commit\n",
      "\n",
      "commit fa41be8fe752a75c618f0e394cfc444ab5b962ea\n",
      "Author: jsakshu <jsakshuammi@gmail.com>\n",
      "Date:   Tue Jul 1 18:00:29 2025 +0530\n",
      "\n",
      "    first commit\n"
     ]
    }
   ],
   "source": [
    "git log"
   ]
  },
  {
   "cell_type": "markdown",
   "id": "3b0c30ed-9999-45d0-ab95-923bc174bd43",
   "metadata": {},
   "source": [
    "**Note**above log ,given same commit name.so i modififed dots at the end and coomitted with msg \"commit 3\""
   ]
  },
  {
   "cell_type": "code",
   "execution_count": 77,
   "id": "6b0c11d2-9765-49ee-9645-991f8f1c5784",
   "metadata": {},
   "outputs": [],
   "source": [
    "git add track.txt"
   ]
  },
  {
   "cell_type": "code",
   "execution_count": 78,
   "id": "bd9682d0-f336-497f-8ca5-5031f2c61911",
   "metadata": {},
   "outputs": [
    {
     "name": "stdout",
     "output_type": "stream",
     "text": [
      "[b1 4b5b7db] commit 3\n",
      " 1 file changed, 1 insertion(+), 1 deletion(-)\n"
     ]
    }
   ],
   "source": [
    "git commit -m \"commit 3\""
   ]
  },
  {
   "cell_type": "code",
   "execution_count": 79,
   "id": "76b4539a-8fca-45cb-9610-15827b6a2924",
   "metadata": {},
   "outputs": [
    {
     "name": "stdout",
     "output_type": "stream",
     "text": [
      "commit 4b5b7db7f0cbfc14a0d25ea647a857ac91e6fa9a\n",
      "Author: jsakshu <jsakshuammi@gmail.com>\n",
      "Date:   Tue Jul 1 18:35:20 2025 +0530\n",
      "\n",
      "    commit 3\n",
      "\n",
      "commit 511297e7580c83da59294e292e2be53396b8ecf2\n",
      "Author: jsakshu <jsakshuammi@gmail.com>\n",
      "Date:   Tue Jul 1 18:31:00 2025 +0530\n",
      "\n",
      "    commit 1\n",
      "\n",
      "commit 855dbdf6c5a851ea217e312bbda156d2fb4a980e\n",
      "Author: jsakshu <jsakshuammi@gmail.com>\n",
      "Date:   Tue Jul 1 18:28:15 2025 +0530\n",
      "\n",
      "    commit 1\n",
      "\n",
      "commit 05556021ff1780895d82924560af5e8a0e8fc774\n",
      "Author: jsakshu <jsakshuammi@gmail.com>\n",
      "Date:   Tue Jul 1 18:21:53 2025 +0530\n",
      "\n",
      "    first commit by b1\n",
      "\n",
      "commit 145edcee3b47d93c701eccbf7f3f8cb751ffa03a\n",
      "Author: jsakshu <96901179+jsakshu@users.noreply.github.com>\n",
      "Date:   Tue Jul 1 18:06:12 2025 +0530\n",
      "\n",
      "    Create requirement.txt\n",
      "\n",
      "commit b2702350818585bfc35e3d05e23bb9f8b7813379\n",
      "Author: jsakshu <jsakshuammi@gmail.com>\n",
      "Date:   Tue Jul 1 18:02:42 2025 +0530\n",
      "\n",
      "    second commit\n",
      "\n",
      "commit fa41be8fe752a75c618f0e394cfc444ab5b962ea\n",
      "Author: jsakshu <jsakshuammi@gmail.com>\n",
      "Date:   Tue Jul 1 18:00:29 2025 +0530\n",
      "\n",
      "    first commit\n"
     ]
    }
   ],
   "source": [
    "git log"
   ]
  },
  {
   "cell_type": "markdown",
   "id": "d0fe3bb8-6d3d-46c3-b5e4-02d63053fbe3",
   "metadata": {},
   "source": [
    "### switch to commit 1"
   ]
  },
  {
   "cell_type": "code",
   "execution_count": 80,
   "id": "4686b939-7dce-4aea-9500-8222bdce7fd9",
   "metadata": {},
   "outputs": [
    {
     "name": "stderr",
     "output_type": "stream",
     "text": [
      "Note: switching to '855dbdf6c5a851ea217e312bbda156d2fb4a980e'.\n",
      "\n",
      "You are in 'detached HEAD' state. You can look around, make experimental\n",
      "changes and commit them, and you can discard any commits you make in this\n",
      "state without impacting any branches by switching back to a branch.\n",
      "\n",
      "If you want to create a new branch to retain commits you create, you may\n",
      "do so (now or later) by using -c with the switch command. Example:\n",
      "\n",
      "  git switch -c <new-branch-name>\n",
      "\n",
      "Or undo this operation with:\n",
      "\n",
      "  git switch -\n",
      "\n",
      "Turn off this advice by setting config variable advice.detachedHead to false\n",
      "\n",
      "HEAD is now at 855dbdf commit 1\n"
     ]
    }
   ],
   "source": [
    "git checkout 855dbdf6c5a851ea217e312bbda156d2fb4a980e"
   ]
  },
  {
   "cell_type": "code",
   "execution_count": 81,
   "id": "9c028093-ba26-4a6b-a53c-0af09b5f1d8b",
   "metadata": {},
   "outputs": [
    {
     "name": "stdout",
     "output_type": "stream",
     "text": [
      "version 1\n",
      "Git is a version control system that helps you:\n",
      "\n",
      "Track changes to your code\n",
      "\n",
      "Collaborate with others\n",
      "\n",
      "Revert to earlier versions\n",
      "\n",
      "Manage branches for different features or fixes\n",
      "\n",
      "Itâ€™s widely used in software development, especially with platforms like GitHub, GitLab, and Bitbucket.\n"
     ]
    }
   ],
   "source": [
    "type track.txt"
   ]
  },
  {
   "cell_type": "code",
   "execution_count": 82,
   "id": "b984f407-86a0-437c-9cde-c23d7b4097ee",
   "metadata": {},
   "outputs": [
    {
     "name": "stderr",
     "output_type": "stream",
     "text": [
      "Previous HEAD position was 855dbdf commit 1\n",
      "HEAD is now at fa41be8 first commit\n"
     ]
    }
   ],
   "source": [
    "git checkout fa41be8fe752a75c618f0e394cfc444ab5b962ea"
   ]
  },
  {
   "cell_type": "code",
   "execution_count": 83,
   "id": "4524e6a8-a36e-4460-b72b-2cb2ed4dab92",
   "metadata": {},
   "outputs": [
    {
     "name": "stdout",
     "output_type": "stream",
     "text": [
      "this is line 1\n",
      "this is line 2\n"
     ]
    }
   ],
   "source": [
    "type demo.txt"
   ]
  },
  {
   "cell_type": "code",
   "execution_count": 85,
   "id": "dcfd1d2e-c443-4bbf-a87d-51da050addbc",
   "metadata": {},
   "outputs": [
    {
     "name": "stdout",
     "output_type": "stream",
     "text": [
      "HEAD detached at fa41be8\n",
      "Untracked files:\n",
      "  (use \"git add <file>...\" to include in what will be committed)\n",
      "\t.ipynb_checkpoints/\n",
      "\tGIT_NOTES.ipynb\n",
      "\n",
      "nothing added to commit but untracked files present (use \"git add\" to track)\n"
     ]
    }
   ],
   "source": [
    "git status"
   ]
  },
  {
   "cell_type": "code",
   "execution_count": 86,
   "id": "9c147451-3d6f-4081-a323-0a37e983356e",
   "metadata": {},
   "outputs": [
    {
     "name": "stdout",
     "output_type": "stream",
     "text": [
      "* (HEAD detached at fa41be8)\n",
      "  b1\n",
      "  main\n"
     ]
    }
   ],
   "source": [
    "git branch"
   ]
  },
  {
   "cell_type": "code",
   "execution_count": 87,
   "id": "2b3c1538-e39f-474b-b152-576394aea6be",
   "metadata": {},
   "outputs": [
    {
     "name": "stderr",
     "output_type": "stream",
     "text": [
      "Previous HEAD position was fa41be8 first commit\n",
      "Switched to branch 'b1'\n"
     ]
    }
   ],
   "source": [
    "git checkout b1"
   ]
  },
  {
   "cell_type": "code",
   "execution_count": 88,
   "id": "36f21b2a-f5d7-4739-8900-720a49b97a07",
   "metadata": {},
   "outputs": [
    {
     "name": "stdout",
     "output_type": "stream",
     "text": [
      "* b1\n",
      "  main\n"
     ]
    }
   ],
   "source": [
    "git branch"
   ]
  },
  {
   "cell_type": "markdown",
   "id": "08c6df9e-fbea-48f0-9f0e-0be21a277a2e",
   "metadata": {},
   "source": [
    "# push to Github"
   ]
  },
  {
   "cell_type": "code",
   "execution_count": 89,
   "id": "d524e5c6-fc7f-4c1e-9211-987b438691a4",
   "metadata": {},
   "outputs": [
    {
     "name": "stderr",
     "output_type": "stream",
     "text": [
      "remote: \n",
      "remote: Create a pull request for 'b1' on GitHub by visiting:        \n",
      "remote:      https://github.com/jsakshu/first_repo/pull/new/b1        \n",
      "remote: \n",
      "To https://github.com/jsakshu/first_repo.git\n",
      " * [new branch]      b1 -> b1\n"
     ]
    }
   ],
   "source": [
    "git push origin b1"
   ]
  },
  {
   "cell_type": "code",
   "execution_count": null,
   "id": "79add127-5f3d-4e66-8d3c-cd014a97ef78",
   "metadata": {},
   "outputs": [],
   "source": []
  }
 ],
 "metadata": {
  "kernelspec": {
   "display_name": "Python 3 (ipykernel)",
   "language": "python",
   "name": "python3"
  },
  "language_info": {
   "codemirror_mode": {
    "name": "ipython",
    "version": 3
   },
   "file_extension": ".py",
   "mimetype": "text/x-python",
   "name": "python",
   "nbconvert_exporter": "python",
   "pygments_lexer": "ipython3",
   "version": "3.13.4"
  }
 },
 "nbformat": 4,
 "nbformat_minor": 5
}
